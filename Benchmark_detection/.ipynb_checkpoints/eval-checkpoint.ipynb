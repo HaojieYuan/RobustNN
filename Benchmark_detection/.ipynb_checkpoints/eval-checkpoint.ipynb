{
 "cells": [
  {
   "cell_type": "markdown",
   "metadata": {},
   "source": [
    "模型读入，一些预处理"
   ]
  },
  {
   "cell_type": "code",
   "execution_count": 1,
   "metadata": {},
   "outputs": [
    {
     "name": "stderr",
     "output_type": "stream",
     "text": [
      "Using TensorFlow backend.\n"
     ]
    }
   ],
   "source": [
    "import tensorflow as tf\n",
    "import tensorflow.keras as keras\n",
    "from utils import cifar10_load\n",
    "import numpy as np\n",
    "\n",
    "model_file = 'ResNet32_acc893.h5'\n",
    "detector_file = 'detector.h5'\n",
    "batch_size = 16\n",
    "test_scale = 1024\n",
    "\n",
    "(x_train, y_train), (x_dev, y_dev), (x_test, y_test) = cifar10_load()"
   ]
  },
  {
   "cell_type": "code",
   "execution_count": 2,
   "metadata": {},
   "outputs": [
    {
     "name": "stdout",
     "output_type": "stream",
     "text": [
      "WARNING:tensorflow:From /usr/local/lib/python3.5/dist-packages/tensorflow/python/ops/resource_variable_ops.py:435: colocate_with (from tensorflow.python.framework.ops) is deprecated and will be removed in a future version.\n",
      "Instructions for updating:\n",
      "Colocations handled automatically by placer.\n",
      "WARNING:tensorflow:From /usr/local/lib/python3.5/dist-packages/tensorflow/python/ops/math_ops.py:3066: to_int32 (from tensorflow.python.ops.math_ops) is deprecated and will be removed in a future version.\n",
      "Instructions for updating:\n",
      "Use tf.cast instead.\n",
      "WARNING:tensorflow:No training configuration found in save file: the model was *not* compiled. Compile it manually.\n"
     ]
    }
   ],
   "source": [
    "model = keras.models.load_model(model_file)\n",
    "detector = keras.models.load_model(detector_file)"
   ]
  },
  {
   "cell_type": "markdown",
   "metadata": {},
   "source": [
    "设定生成对抗样本的攻击参数"
   ]
  },
  {
   "cell_type": "code",
   "execution_count": 3,
   "metadata": {},
   "outputs": [],
   "source": [
    "cw_params = {'batch_size': batch_size,\n",
    "             'confidence': 10,\n",
    "             'learning_rate': 0.1,\n",
    "             'binary_search_steps': 5,\n",
    "             'max_iterations': 1000,\n",
    "             'abort_early': True,\n",
    "             'initial_const': 0.01,\n",
    "             'clip_min': 0.,\n",
    "             'clip_max': 1.}\n",
    "\n",
    "deepfool_params = {'nb_candidate': 10,\n",
    "                   'overshoot': 0.02,\n",
    "                   'max_iter': 50,\n",
    "                   'clip_min': 0.,\n",
    "                   'clip_max': 1.}\n",
    "\n",
    "pgd_params = {'eps':0.3,\n",
    "              'eps_iter':0.25, \n",
    "              'nb_iter':10, \n",
    "              'ord':2,\n",
    "              'clip_min':0., \n",
    "              'clip_max':1., \n",
    "              'sanity_checks':True}\n",
    "\n",
    "lbfgs_params = {'batch_size':batch_size,\n",
    "                'clip_min':0.,\n",
    "                'clip_max':1.}\n",
    "\n",
    "elasticnet_params = {'batch_size':batch_size,\n",
    "                     'confidence':10,\n",
    "                     'abort_early':True,\n",
    "                     'clip_min':0.,\n",
    "                     'clip_max':1.}"
   ]
  },
  {
   "cell_type": "markdown",
   "metadata": {},
   "source": [
    "得到可以被正确分类的样本"
   ]
  },
  {
   "cell_type": "code",
   "execution_count": 4,
   "metadata": {},
   "outputs": [],
   "source": [
    "correct_indexes = []\n",
    "for i in range(len(x_test)):\n",
    "    if np.argmax(model.predict(x_test[i].reshape(-1, 32, 32, 3))) == np.argmax(y_test[i]):\n",
    "        correct_indexes.append(i)\n",
    "    if len(correct_indexes) == test_scale: break\n",
    "\n",
    "assert len(correct_indexes) == test_scale, \"Test scale too large, can not find enough images.\"\n",
    "\n",
    "sample_x = x_test[correct_indexes]\n",
    "sample_y = y_test[correct_indexes]"
   ]
  },
  {
   "cell_type": "markdown",
   "metadata": {},
   "source": [
    "对这些样本进行攻击，得到攻击成功的对抗样本"
   ]
  },
  {
   "cell_type": "code",
   "execution_count": 5,
   "metadata": {
    "scrolled": true
   },
   "outputs": [
    {
     "name": "stderr",
     "output_type": "stream",
     "text": [
      "/tf/cleverhans-master/cleverhans/attacks_tf.py:27: UserWarning: attacks_tf is deprecated and will be removed on 2019-07-18 or after. Code should import functions from their new locations directly.\n",
      "  warnings.warn(\"attacks_tf is deprecated and will be removed on 2019-07-18\"\n"
     ]
    },
    {
     "name": "stdout",
     "output_type": "stream",
     "text": [
      "WARNING:tensorflow:From /tf/cleverhans-master/cleverhans/attacks/attack.py:280: to_float (from tensorflow.python.ops.math_ops) is deprecated and will be removed in a future version.\n",
      "Instructions for updating:\n",
      "Use tf.cast instead.\n"
     ]
    },
    {
     "name": "stderr",
     "output_type": "stream",
     "text": [
      "/tf/cleverhans-master/cleverhans/compat.py:23: UserWarning: <function reduce_max_v1 at 0x7f3c23cbbea0> is deprecated. Switch to calling the equivalent function in tensorflow.  This function was originally needed as a compatibility layer for old versions of tensorflow,  but support for those versions has now been dropped.\n",
      "  warnings.warn(str(f) + \" is deprecated. Switch to calling the equivalent function in tensorflow. \"\n"
     ]
    },
    {
     "name": "stdout",
     "output_type": "stream",
     "text": [
      "WARNING:tensorflow:From /tf/cleverhans-master/cleverhans/compat.py:80: calling softmax_cross_entropy_with_logits_v2_helper (from tensorflow.python.ops.nn_ops) with dim is deprecated and will be removed in a future version.\n",
      "Instructions for updating:\n",
      "dim is deprecated, use axis instead\n"
     ]
    },
    {
     "name": "stderr",
     "output_type": "stream",
     "text": [
      "/tf/cleverhans-master/cleverhans/compat.py:23: UserWarning: <function reduce_sum_v1 at 0x7f3c23cbb1e0> is deprecated. Switch to calling the equivalent function in tensorflow.  This function was originally needed as a compatibility layer for old versions of tensorflow,  but support for those versions has now been dropped.\n",
      "  warnings.warn(str(f) + \" is deprecated. Switch to calling the equivalent function in tensorflow. \"\n"
     ]
    },
    {
     "name": "stdout",
     "output_type": "stream",
     "text": [
      "WARNING:tensorflow:From /tf/Benchmark_detection/modified_lbfgs.py:75: py_func (from tensorflow.python.ops.script_ops) is deprecated and will be removed in a future version.\n",
      "Instructions for updating:\n",
      "tf.py_func is deprecated in TF V2. Instead, use\n",
      "    tf.py_function, which takes a python function which manipulates tf eager\n",
      "    tensors instead of numpy arrays. It's easy to convert a tf eager tensor to\n",
      "    an ndarray (just call tensor.numpy()) but having access to eager tensors\n",
      "    means `tf.py_function`s can use accelerators such as GPUs as well as\n",
      "    being differentiable using a gradient tape.\n",
      "    \n",
      "WARNING:tensorflow:From /usr/local/lib/python3.5/dist-packages/tensorflow/python/ops/math_grad.py:102: div (from tensorflow.python.ops.math_ops) is deprecated and will be removed in a future version.\n",
      "Instructions for updating:\n",
      "Deprecated in favor of operator or tf.math.divide.\n"
     ]
    },
    {
     "name": "stderr",
     "output_type": "stream",
     "text": [
      "[INFO 2019-03-12 14:39:13,036 cleverhans] Attack result at iteration 5 is [2 8 9 2 6 9 4 4 9 6 1 7 7 8 0 7]\n",
      "[INFO 2019-03-12 14:39:13,132 cleverhans] Attack result at iteration 6 is [2 1 9 2 3 9 4 4 9 6 1 7 6 8 0 7]\n",
      "[INFO 2019-03-12 14:39:13,132 cleverhans] 16 out of 16 become adversarial examples at iteration 6\n",
      "[INFO 2019-03-12 14:39:13,604 cleverhans] Attack result at iteration 5 is [4 8 8 2 1 4 4 3 6 1 9 2 3 2 0 5]\n",
      "[INFO 2019-03-12 14:39:13,697 cleverhans] Attack result at iteration 6 is [4 0 8 2 1 4 4 3 6 1 9 2 3 2 0 5]\n",
      "[INFO 2019-03-12 14:39:13,697 cleverhans] 16 out of 16 become adversarial examples at iteration 6\n",
      "[INFO 2019-03-12 14:39:14,181 cleverhans] Attack result at iteration 5 is [9 9 1 0 2 3 1 8 1 6 5 3 6 6 0 2]\n",
      "[INFO 2019-03-12 14:39:14,272 cleverhans] Attack result at iteration 6 is [9 3 1 0 2 3 1 8 1 6 5 3 6 6 0 2]\n",
      "[INFO 2019-03-12 14:39:14,273 cleverhans] 16 out of 16 become adversarial examples at iteration 6\n",
      "[INFO 2019-03-12 14:39:14,748 cleverhans] Attack result at iteration 5 is [3 5 4 9 3 6 8 0 5 4 3 0 0 9 2 0]\n",
      "[INFO 2019-03-12 14:39:14,842 cleverhans] Attack result at iteration 6 is [3 5 4 9 3 6 8 0 5 4 3 0 0 9 5 0]\n",
      "[INFO 2019-03-12 14:39:14,843 cleverhans] 16 out of 16 become adversarial examples at iteration 6\n",
      "[INFO 2019-03-12 14:39:15,309 cleverhans] Attack result at iteration 5 is [5 8 0 1 6 3 5 3 6 6 0 8 6 9 6 7]\n",
      "[INFO 2019-03-12 14:39:15,593 cleverhans] Attack result at iteration 8 is [5 4 0 9 6 3 5 3 6 6 0 8 6 9 2 7]\n",
      "[INFO 2019-03-12 14:39:15,594 cleverhans] 16 out of 16 become adversarial examples at iteration 8\n",
      "[INFO 2019-03-12 14:39:16,064 cleverhans] Attack result at iteration 5 is [5 8 0 2 7 3 6 6 9 1 6 9 2 5 6 8]\n",
      "[INFO 2019-03-12 14:39:16,531 cleverhans] Attack result at iteration 10 is [5 8 0 2 7 3 2 6 9 0 6 9 2 5 6 8]\n",
      "[INFO 2019-03-12 14:39:16,717 cleverhans] Attack result at iteration 12 is [5 8 2 2 7 3 2 6 9 0 6 9 2 5 6 8]\n",
      "[INFO 2019-03-12 14:39:16,717 cleverhans] 16 out of 16 become adversarial examples at iteration 12\n",
      "[INFO 2019-03-12 14:39:17,190 cleverhans] Attack result at iteration 5 is [6 9 5 8 9 3 1 0 9 3 0 9 0 6 6 2]\n",
      "[INFO 2019-03-12 14:39:17,191 cleverhans] 16 out of 16 become adversarial examples at iteration 5\n",
      "[INFO 2019-03-12 14:39:17,662 cleverhans] Attack result at iteration 5 is [1 9 1 6 7 1 9 6 1 3 5 3 5 0 9 3]\n",
      "[INFO 2019-03-12 14:39:17,757 cleverhans] Attack result at iteration 6 is [9 9 1 6 7 1 9 6 1 3 3 3 5 0 9 3]\n",
      "[INFO 2019-03-12 14:39:17,758 cleverhans] 16 out of 16 become adversarial examples at iteration 6\n",
      "[INFO 2019-03-12 14:39:18,233 cleverhans] Attack result at iteration 5 is [3 0 1 3 7 2 3 3 3 2 7 0 5 2 2 9]\n",
      "[INFO 2019-03-12 14:39:18,234 cleverhans] 16 out of 16 become adversarial examples at iteration 5\n",
      "[INFO 2019-03-12 14:39:18,705 cleverhans] Attack result at iteration 5 is [2 8 4 0 1 2 1 6 6 5 8 8 3 2 6 6]\n",
      "[INFO 2019-03-12 14:39:18,800 cleverhans] Attack result at iteration 6 is [2 8 4 0 1 2 1 6 6 5 8 8 3 0 6 6]\n",
      "[INFO 2019-03-12 14:39:18,801 cleverhans] 16 out of 16 become adversarial examples at iteration 6\n",
      "[INFO 2019-03-12 14:39:19,282 cleverhans] Attack result at iteration 5 is [4 2 2 8 6 6 8 9 4 6 9 7 8 3 0 0]\n",
      "[INFO 2019-03-12 14:39:19,377 cleverhans] Attack result at iteration 6 is [4 2 2 8 6 6 8 9 4 6 9 3 6 3 0 0]\n",
      "[INFO 2019-03-12 14:39:19,378 cleverhans] 16 out of 16 become adversarial examples at iteration 6\n",
      "[INFO 2019-03-12 14:39:19,865 cleverhans] Attack result at iteration 5 is [5 9 7 4 6 5 8 5 3 7 1 0 5 1 8 4]\n",
      "[INFO 2019-03-12 14:39:19,959 cleverhans] Attack result at iteration 6 is [5 9 7 4 6 5 8 5 3 7 1 2 5 1 3 4]\n",
      "[INFO 2019-03-12 14:39:19,959 cleverhans] 16 out of 16 become adversarial examples at iteration 6\n",
      "[INFO 2019-03-12 14:39:20,440 cleverhans] Attack result at iteration 5 is [5 3 1 4 1 0 3 3 2 3 1 3 1 9 2 2]\n",
      "[INFO 2019-03-12 14:39:20,723 cleverhans] Attack result at iteration 8 is [5 3 1 4 1 0 3 3 2 3 9 3 1 9 2 2]\n",
      "[INFO 2019-03-12 14:39:20,724 cleverhans] 16 out of 16 become adversarial examples at iteration 8\n",
      "[INFO 2019-03-12 14:39:21,197 cleverhans] Attack result at iteration 5 is [3 5 1 9 1 3 2 9 0 3 0 9 6 1 1 3]\n",
      "[INFO 2019-03-12 14:39:21,292 cleverhans] Attack result at iteration 6 is [3 3 2 9 1 3 2 9 0 3 0 9 6 1 1 3]\n",
      "[INFO 2019-03-12 14:39:21,293 cleverhans] 16 out of 16 become adversarial examples at iteration 6\n",
      "[INFO 2019-03-12 14:39:21,771 cleverhans] Attack result at iteration 5 is [6 8 1 6 9 3 3 2 0 6 5 3 7 5 9 3]\n",
      "[INFO 2019-03-12 14:39:21,771 cleverhans] 16 out of 16 become adversarial examples at iteration 5\n",
      "[INFO 2019-03-12 14:39:22,239 cleverhans] Attack result at iteration 5 is [0 5 6 0 2 1 8 1 8 3 1 6 7 2 8 2]\n",
      "[INFO 2019-03-12 14:39:22,525 cleverhans] Attack result at iteration 8 is [8 5 6 0 2 9 8 8 8 3 1 6 7 2 8 2]\n",
      "[INFO 2019-03-12 14:39:22,525 cleverhans] 16 out of 16 become adversarial examples at iteration 8\n",
      "[INFO 2019-03-12 14:39:23,028 cleverhans] Attack result at iteration 5 is [2 0 2 3 6 2 8 2 0 3 9 0 2 7 4 4]\n",
      "[INFO 2019-03-12 14:39:23,399 cleverhans] Attack result at iteration 9 is [2 8 2 3 5 2 8 2 0 3 9 0 2 7 4 4]\n",
      "[INFO 2019-03-12 14:39:23,399 cleverhans] 16 out of 16 become adversarial examples at iteration 9\n",
      "[INFO 2019-03-12 14:39:23,869 cleverhans] Attack result at iteration 5 is [5 6 3 7 4 6 5 6 4 6 2 2 9 9 6 1]\n",
      "[INFO 2019-03-12 14:39:23,964 cleverhans] Attack result at iteration 6 is [5 6 3 7 4 6 5 6 4 6 2 2 9 1 3 1]\n",
      "[INFO 2019-03-12 14:39:23,965 cleverhans] 16 out of 16 become adversarial examples at iteration 6\n",
      "[INFO 2019-03-12 14:39:24,445 cleverhans] Attack result at iteration 5 is [1 6 5 6 1 4 5 0 1 0 3 7 1 8 1 1]\n",
      "[INFO 2019-03-12 14:39:24,632 cleverhans] Attack result at iteration 7 is [1 6 5 6 1 4 5 0 1 0 3 7 1 1 1 1]\n",
      "[INFO 2019-03-12 14:39:24,632 cleverhans] 16 out of 16 become adversarial examples at iteration 7\n",
      "[INFO 2019-03-12 14:39:25,104 cleverhans] Attack result at iteration 5 is [6 2 6 2 4 1 9 5 3 8 8 1 2 9 6 9]\n",
      "[INFO 2019-03-12 14:39:25,287 cleverhans] Attack result at iteration 7 is [6 0 6 2 4 1 9 5 3 3 8 1 2 9 6 9]\n",
      "[INFO 2019-03-12 14:39:25,288 cleverhans] 16 out of 16 become adversarial examples at iteration 7\n",
      "[INFO 2019-03-12 14:39:25,756 cleverhans] Attack result at iteration 5 is [6 0 9 5 6 0 9 2 8 3 4 1 3 0 8 4]\n",
      "[INFO 2019-03-12 14:39:26,228 cleverhans] Attack result at iteration 10 is [6 0 8 5 6 0 9 2 8 3 4 1 3 0 8 4]\n",
      "[INFO 2019-03-12 14:39:26,504 cleverhans] Attack result at iteration 13 is [6 0 8 5 6 0 9 2 8 3 4 1 3 0 0 4]\n",
      "[INFO 2019-03-12 14:39:26,504 cleverhans] 16 out of 16 become adversarial examples at iteration 13\n",
      "[INFO 2019-03-12 14:39:26,979 cleverhans] Attack result at iteration 5 is [5 3 7 6 0 1 3 1 6 3 0 9 5 9 1 5]\n",
      "[INFO 2019-03-12 14:39:27,159 cleverhans] Attack result at iteration 7 is [5 3 7 6 0 1 3 1 1 3 0 9 5 1 1 5]\n",
      "[INFO 2019-03-12 14:39:27,160 cleverhans] 16 out of 16 become adversarial examples at iteration 7\n",
      "[INFO 2019-03-12 14:39:27,652 cleverhans] Attack result at iteration 5 is [9 9 0 9 2 3 5 1 5 8 9 9 6 7 6 7]\n",
      "[INFO 2019-03-12 14:39:27,831 cleverhans] Attack result at iteration 7 is [9 9 1 9 2 3 5 1 5 8 9 1 6 5 6 2]\n",
      "[INFO 2019-03-12 14:39:27,832 cleverhans] 16 out of 16 become adversarial examples at iteration 7\n",
      "[INFO 2019-03-12 14:39:28,303 cleverhans] Attack result at iteration 5 is [6 2 7 6 1 2 6 6 4 6 5 9 2 6 6 5]\n",
      "[INFO 2019-03-12 14:39:28,677 cleverhans] Attack result at iteration 9 is [6 2 7 6 1 2 6 1 4 6 5 9 2 6 6 5]\n",
      "[INFO 2019-03-12 14:39:28,678 cleverhans] 16 out of 16 become adversarial examples at iteration 9\n",
      "[INFO 2019-03-12 14:39:29,157 cleverhans] Attack result at iteration 5 is [1 5 0 8 6 4 3 0 4 4 1 6 4 1 5 4]\n",
      "[INFO 2019-03-12 14:39:29,253 cleverhans] Attack result at iteration 6 is [9 5 0 8 6 4 3 2 4 4 1 6 4 1 5 4]\n",
      "[INFO 2019-03-12 14:39:29,254 cleverhans] 16 out of 16 become adversarial examples at iteration 6\n",
      "[INFO 2019-03-12 14:39:29,734 cleverhans] Attack result at iteration 5 is [7 3 0 2 3 9 5 6 2 5 6 5 8 5 0 0]\n",
      "[INFO 2019-03-12 14:39:29,826 cleverhans] Attack result at iteration 6 is [7 3 0 2 3 9 5 6 2 5 6 5 1 5 0 0]\n",
      "[INFO 2019-03-12 14:39:29,826 cleverhans] 16 out of 16 become adversarial examples at iteration 6\n",
      "[INFO 2019-03-12 14:39:30,307 cleverhans] Attack result at iteration 5 is [8 3 5 5 8 3 3 9 2 8 6 8 1 1 2 9]\n",
      "[INFO 2019-03-12 14:39:30,404 cleverhans] Attack result at iteration 6 is [8 3 5 5 8 3 3 9 2 2 6 8 1 1 2 9]\n"
     ]
    },
    {
     "name": "stderr",
     "output_type": "stream",
     "text": [
      "[INFO 2019-03-12 14:39:30,404 cleverhans] 16 out of 16 become adversarial examples at iteration 6\n",
      "[INFO 2019-03-12 14:39:30,876 cleverhans] Attack result at iteration 5 is [8 0 8 8 0 1 3 4 2 6 2 3 5 1 6 5]\n",
      "[INFO 2019-03-12 14:39:30,877 cleverhans] 16 out of 16 become adversarial examples at iteration 5\n",
      "[INFO 2019-03-12 14:39:31,350 cleverhans] Attack result at iteration 5 is [0 9 2 9 2 4 9 3 5 8 9 3 0 3 0 8]\n",
      "[INFO 2019-03-12 14:39:31,534 cleverhans] Attack result at iteration 7 is [0 1 2 9 2 4 9 3 5 0 1 3 0 3 0 8]\n",
      "[INFO 2019-03-12 14:39:31,534 cleverhans] 16 out of 16 become adversarial examples at iteration 7\n",
      "[INFO 2019-03-12 14:39:32,011 cleverhans] Attack result at iteration 5 is [0 1 3 4 8 4 3 8 1 3 2 2 1 6 9 9]\n",
      "[INFO 2019-03-12 14:39:32,111 cleverhans] Attack result at iteration 6 is [0 1 3 4 8 8 3 8 1 3 2 2 1 6 9 9]\n",
      "[INFO 2019-03-12 14:39:32,112 cleverhans] 16 out of 16 become adversarial examples at iteration 6\n",
      "[INFO 2019-03-12 14:39:32,587 cleverhans] Attack result at iteration 5 is [3 2 5 6 0 0 1 9 3 7 3 9 3 1 3 3]\n",
      "[INFO 2019-03-12 14:39:32,588 cleverhans] 16 out of 16 become adversarial examples at iteration 5\n",
      "[INFO 2019-03-12 14:39:33,040 cleverhans] Attack result at iteration 5 is [4 5 3 9 5 3 3 6 5 8 3 2 4 3 5 9]\n",
      "[INFO 2019-03-12 14:39:33,498 cleverhans] Attack result at iteration 10 is [5 5 3 9 5 3 3 6 5 8 3 2 4 3 5 9]\n",
      "[INFO 2019-03-12 14:39:33,499 cleverhans] 16 out of 16 become adversarial examples at iteration 10\n",
      "[INFO 2019-03-12 14:39:33,973 cleverhans] Attack result at iteration 5 is [6 6 2 8 8 4 2 2 4 6 3 8 8 5 6 9]\n",
      "[INFO 2019-03-12 14:39:34,165 cleverhans] Attack result at iteration 7 is [6 5 2 9 8 4 2 2 4 6 3 8 8 5 6 9]\n",
      "[INFO 2019-03-12 14:39:34,166 cleverhans] 16 out of 16 become adversarial examples at iteration 7\n",
      "[INFO 2019-03-12 14:39:34,628 cleverhans] Attack result at iteration 5 is [8 3 1 2 3 0 5 0 2 2 0 3 8 0 9 6]\n",
      "[INFO 2019-03-12 14:39:34,819 cleverhans] Attack result at iteration 7 is [8 3 1 0 3 0 5 0 2 2 0 3 8 0 9 2]\n",
      "[INFO 2019-03-12 14:39:34,820 cleverhans] 16 out of 16 become adversarial examples at iteration 7\n",
      "[INFO 2019-03-12 14:39:35,295 cleverhans] Attack result at iteration 5 is [3 5 7 9 4 1 0 0 6 9 6 3 9 1 7 1]\n",
      "[INFO 2019-03-12 14:39:35,570 cleverhans] Attack result at iteration 8 is [3 5 7 8 4 1 0 0 6 9 3 3 9 8 5 1]\n",
      "[INFO 2019-03-12 14:39:35,571 cleverhans] 16 out of 16 become adversarial examples at iteration 8\n",
      "[INFO 2019-03-12 14:39:36,032 cleverhans] Attack result at iteration 5 is [9 9 5 1 1 6 7 9 4 2 7 0 5 0 9 8]\n",
      "[INFO 2019-03-12 14:39:36,033 cleverhans] 16 out of 16 become adversarial examples at iteration 5\n",
      "[INFO 2019-03-12 14:39:36,505 cleverhans] Attack result at iteration 5 is [6 5 6 9 6 7 7 7 7 1 9 2 1 8 9 3]\n",
      "[INFO 2019-03-12 14:39:36,505 cleverhans] 16 out of 16 become adversarial examples at iteration 5\n",
      "[INFO 2019-03-12 14:39:36,975 cleverhans] Attack result at iteration 5 is [8 2 5 2 5 1 8 9 5 2 5 1 4 8 6 6]\n",
      "[INFO 2019-03-12 14:39:36,976 cleverhans] 16 out of 16 become adversarial examples at iteration 5\n",
      "[INFO 2019-03-12 14:39:37,437 cleverhans] Attack result at iteration 5 is [0 1 2 7 0 6 2 6 2 6 5 9 0 7 9 2]\n",
      "[INFO 2019-03-12 14:39:37,620 cleverhans] Attack result at iteration 7 is [8 1 2 7 0 6 2 6 2 6 5 9 0 2 9 2]\n",
      "[INFO 2019-03-12 14:39:37,620 cleverhans] 16 out of 16 become adversarial examples at iteration 7\n",
      "[INFO 2019-03-12 14:39:38,097 cleverhans] Attack result at iteration 5 is [0 6 4 7 4 0 3 0 3 5 0 3 0 2 2 0]\n",
      "[INFO 2019-03-12 14:39:38,098 cleverhans] 16 out of 16 become adversarial examples at iteration 5\n",
      "[INFO 2019-03-12 14:39:38,573 cleverhans] Attack result at iteration 5 is [3 2 9 5 6 7 1 7 8 0 0 0 5 0 2 3]\n",
      "[INFO 2019-03-12 14:39:38,669 cleverhans] Attack result at iteration 6 is [3 2 9 5 6 7 1 7 0 0 0 0 5 0 2 3]\n",
      "[INFO 2019-03-12 14:39:38,670 cleverhans] 16 out of 16 become adversarial examples at iteration 6\n",
      "[INFO 2019-03-12 14:39:39,136 cleverhans] Attack result at iteration 5 is [5 5 4 2 9 8 9 5 5 1 2 5 5 2 6 3]\n",
      "[INFO 2019-03-12 14:39:39,230 cleverhans] Attack result at iteration 6 is [5 5 4 2 9 8 9 5 5 1 2 5 5 2 3 3]\n",
      "[INFO 2019-03-12 14:39:39,231 cleverhans] 16 out of 16 become adversarial examples at iteration 6\n",
      "[INFO 2019-03-12 14:39:39,697 cleverhans] Attack result at iteration 5 is [3 8 0 1 9 4 0 4 0 6 9 5 2 0 1 4]\n",
      "[INFO 2019-03-12 14:39:39,787 cleverhans] Attack result at iteration 6 is [3 8 0 1 9 4 0 4 0 6 9 5 2 7 9 4]\n",
      "[INFO 2019-03-12 14:39:39,788 cleverhans] 16 out of 16 become adversarial examples at iteration 6\n",
      "[INFO 2019-03-12 14:39:40,259 cleverhans] Attack result at iteration 5 is [0 2 0 9 6 2 4 5 2 1 6 0 9 5 3 5]\n",
      "[INFO 2019-03-12 14:39:40,260 cleverhans] 16 out of 16 become adversarial examples at iteration 5\n",
      "[INFO 2019-03-12 14:39:40,745 cleverhans] Attack result at iteration 5 is [1 5 0 0 0 9 4 5 9 3 2 5 9 3 5 7]\n",
      "[INFO 2019-03-12 14:39:40,746 cleverhans] 16 out of 16 become adversarial examples at iteration 5\n",
      "[INFO 2019-03-12 14:39:41,209 cleverhans] Attack result at iteration 5 is [5 9 6 7 3 4 5 9 0 8 6 0 5 7 8 6]\n",
      "[INFO 2019-03-12 14:39:41,301 cleverhans] Attack result at iteration 6 is [5 9 6 5 3 4 5 9 0 8 6 0 5 7 8 6]\n",
      "[INFO 2019-03-12 14:39:41,301 cleverhans] 16 out of 16 become adversarial examples at iteration 6\n",
      "[INFO 2019-03-12 14:39:41,767 cleverhans] Attack result at iteration 5 is [4 5 0 1 4 5 1 6 6 5 2 3 9 3 2 3]\n",
      "[INFO 2019-03-12 14:39:41,860 cleverhans] Attack result at iteration 6 is [4 5 0 1 4 5 0 6 6 5 2 3 9 3 2 3]\n",
      "[INFO 2019-03-12 14:39:41,861 cleverhans] 16 out of 16 become adversarial examples at iteration 6\n",
      "[INFO 2019-03-12 14:39:42,334 cleverhans] Attack result at iteration 5 is [7 1 5 0 2 6 4 6 3 2 1 9 2 7 2 8]\n",
      "[INFO 2019-03-12 14:39:42,616 cleverhans] Attack result at iteration 8 is [5 1 5 0 2 6 4 6 3 2 1 9 2 3 2 8]\n",
      "[INFO 2019-03-12 14:39:42,617 cleverhans] 16 out of 16 become adversarial examples at iteration 8\n",
      "[INFO 2019-03-12 14:39:43,095 cleverhans] Attack result at iteration 5 is [5 1 2 2 5 0 9 4 7 9 2 1 3 5 8 3]\n",
      "[INFO 2019-03-12 14:39:43,190 cleverhans] Attack result at iteration 6 is [5 1 2 2 5 8 9 4 7 9 2 9 3 5 8 3]\n",
      "[INFO 2019-03-12 14:39:43,191 cleverhans] 16 out of 16 become adversarial examples at iteration 6\n",
      "[INFO 2019-03-12 14:39:43,678 cleverhans] Attack result at iteration 5 is [2 3 6 5 0 6 0 1 8 9 8 6 3 2 7 9]\n",
      "[INFO 2019-03-12 14:39:44,041 cleverhans] Attack result at iteration 9 is [2 3 6 5 0 6 1 1 8 9 8 6 3 2 3 9]\n",
      "[INFO 2019-03-12 14:39:44,041 cleverhans] 16 out of 16 become adversarial examples at iteration 9\n",
      "[INFO 2019-03-12 14:39:44,516 cleverhans] Attack result at iteration 5 is [9 2 4 3 2 0 3 0 4 1 3 0 8 3 6 3]\n",
      "[INFO 2019-03-12 14:39:44,611 cleverhans] Attack result at iteration 6 is [9 2 4 3 2 0 3 0 4 8 3 0 9 3 6 3]\n",
      "[INFO 2019-03-12 14:39:44,611 cleverhans] 16 out of 16 become adversarial examples at iteration 6\n",
      "[INFO 2019-03-12 14:39:45,088 cleverhans] Attack result at iteration 5 is [3 1 2 1 2 4 1 1 4 3 2 5 2 8 2 3]\n",
      "[INFO 2019-03-12 14:39:45,178 cleverhans] Attack result at iteration 6 is [3 2 2 1 2 4 1 1 4 3 2 5 2 8 2 3]\n",
      "[INFO 2019-03-12 14:39:45,178 cleverhans] 16 out of 16 become adversarial examples at iteration 6\n",
      "[INFO 2019-03-12 14:39:45,642 cleverhans] Attack result at iteration 5 is [4 7 7 3 3 7 1 0 1 9 5 2 8 5 2 9]\n",
      "[INFO 2019-03-12 14:39:45,735 cleverhans] Attack result at iteration 6 is [4 7 5 3 3 7 1 0 1 9 5 2 8 5 2 9]\n",
      "[INFO 2019-03-12 14:39:45,736 cleverhans] 16 out of 16 become adversarial examples at iteration 6\n",
      "[INFO 2019-03-12 14:39:46,207 cleverhans] Attack result at iteration 5 is [1 4 9 2 0 6 5 2 5 4 9 8 6 9 2 6]\n",
      "[INFO 2019-03-12 14:39:46,303 cleverhans] Attack result at iteration 6 is [1 4 1 2 0 6 5 2 5 4 9 8 6 9 2 2]\n",
      "[INFO 2019-03-12 14:39:46,303 cleverhans] 16 out of 16 become adversarial examples at iteration 6\n",
      "[INFO 2019-03-12 14:39:46,790 cleverhans] Attack result at iteration 5 is [2 0 9 0 2 6 9 4 4 3 8 8 1 6 1 4]\n",
      "[INFO 2019-03-12 14:39:46,977 cleverhans] Attack result at iteration 7 is [2 0 9 0 2 6 9 4 4 3 1 8 1 6 1 9]\n",
      "[INFO 2019-03-12 14:39:46,977 cleverhans] 16 out of 16 become adversarial examples at iteration 7\n",
      "[INFO 2019-03-12 14:39:47,450 cleverhans] Attack result at iteration 5 is [4 8 5 9 3 8 6 3 9 5 9 5 0 9 6 8]\n",
      "[INFO 2019-03-12 14:39:47,645 cleverhans] Attack result at iteration 7 is [4 0 5 9 3 8 6 3 9 5 9 5 0 9 6 9]\n"
     ]
    },
    {
     "name": "stderr",
     "output_type": "stream",
     "text": [
      "[INFO 2019-03-12 14:39:47,646 cleverhans] 16 out of 16 become adversarial examples at iteration 7\n",
      "[INFO 2019-03-12 14:39:48,126 cleverhans] Attack result at iteration 5 is [3 0 7 0 9 6 0 3 7 3 0 3 1 6 4 9]\n",
      "[INFO 2019-03-12 14:39:48,579 cleverhans] Attack result at iteration 10 is [3 0 7 0 9 6 0 3 7 3 0 3 9 6 5 9]\n",
      "[INFO 2019-03-12 14:39:48,580 cleverhans] 16 out of 16 become adversarial examples at iteration 10\n",
      "[INFO 2019-03-12 14:39:49,045 cleverhans] Attack result at iteration 5 is [2 2 9 8 8 2 5 3 6 9 2 4 5 8 3 1]\n",
      "[INFO 2019-03-12 14:39:49,046 cleverhans] 16 out of 16 become adversarial examples at iteration 5\n",
      "[INFO 2019-03-12 14:39:49,523 cleverhans] Attack result at iteration 5 is [3 6 9 3 6 2 4 0 3 6 8 1 6 8 5 9]\n",
      "[INFO 2019-03-12 14:39:49,615 cleverhans] Attack result at iteration 6 is [3 6 9 3 6 2 4 0 3 6 8 6 6 8 5 9]\n",
      "[INFO 2019-03-12 14:39:49,616 cleverhans] 16 out of 16 become adversarial examples at iteration 6\n",
      "[INFO 2019-03-12 14:39:50,092 cleverhans] Attack result at iteration 5 is [2 5 0 9 1 9 4 5 5 1 1 4 9 2 5 1]\n",
      "[INFO 2019-03-12 14:39:50,184 cleverhans] Attack result at iteration 6 is [2 5 0 9 1 9 4 5 5 1 1 4 0 2 5 1]\n",
      "[INFO 2019-03-12 14:39:50,185 cleverhans] 16 out of 16 become adversarial examples at iteration 6\n",
      "[INFO 2019-03-12 14:39:50,651 cleverhans] Attack result at iteration 5 is [2 6 1 0 0 0 6 9 9 1 6 3 5 4 3 1]\n",
      "[INFO 2019-03-12 14:39:51,121 cleverhans] Attack result at iteration 10 is [2 6 1 3 3 0 3 9 9 1 6 3 5 2 3 1]\n",
      "[INFO 2019-03-12 14:39:51,583 cleverhans] Attack result at iteration 15 is [2 6 1 3 3 0 3 9 9 1 6 3 5 2 3 1]\n",
      "[INFO 2019-03-12 14:39:52,045 cleverhans] Attack result at iteration 20 is [2 6 1 3 3 3 3 9 9 1 6 3 5 2 3 1]\n",
      "[INFO 2019-03-12 14:39:52,046 cleverhans] 16 out of 16 become adversarial examples at iteration 20\n",
      "[INFO 2019-03-12 14:39:52,529 cleverhans] Attack result at iteration 5 is [8 8 8 2 2 5 2 5 6 1 0 8 8 6 1 1]\n",
      "[INFO 2019-03-12 14:39:52,624 cleverhans] Attack result at iteration 6 is [8 0 8 2 2 5 2 5 6 1 0 8 8 6 1 1]\n",
      "[INFO 2019-03-12 14:39:52,625 cleverhans] 16 out of 16 become adversarial examples at iteration 6\n",
      "[INFO 2019-03-12 14:39:53,106 cleverhans] Attack result at iteration 5 is [3 1 2 0 4 0 7 8 4 3 5 2 4 6 5 3]\n",
      "[INFO 2019-03-12 14:39:53,466 cleverhans] Attack result at iteration 9 is [3 1 0 0 4 0 7 8 4 3 5 2 4 6 5 3]\n",
      "[INFO 2019-03-12 14:39:53,466 cleverhans] 16 out of 16 become adversarial examples at iteration 9\n",
      "[INFO 2019-03-12 14:39:53,938 cleverhans] Attack result at iteration 5 is [6 6 4 9 3 2 9 3 1 4 3 1 9 6 0 6]\n",
      "[INFO 2019-03-12 14:39:54,122 cleverhans] Attack result at iteration 7 is [6 6 4 9 3 2 9 3 1 4 3 9 9 3 0 6]\n",
      "[INFO 2019-03-12 14:39:54,123 cleverhans] 16 out of 16 become adversarial examples at iteration 7\n",
      "/usr/local/lib/python3.5/dist-packages/numpy/core/fromnumeric.py:3118: RuntimeWarning: Mean of empty slice.\n",
      "  out=out, **kwargs)\n",
      "/usr/local/lib/python3.5/dist-packages/numpy/core/_methods.py:85: RuntimeWarning: invalid value encountered in double_scalars\n",
      "  ret = ret.dtype.type(ret / rcount)\n"
     ]
    }
   ],
   "source": [
    "from cleverhans.utils_keras import KerasModelWrapper\n",
    "from cleverhans.attacks import CarliniWagnerL2, DeepFool, ProjectedGradientDescent, ElasticNetMethod\n",
    "from cleverhans.utils_tf import model_eval\n",
    "from utils import initialize_uninitialized\n",
    "from modified_lbfgs import LBFGS\n",
    "\n",
    "model_wrap = KerasModelWrapper(model)\n",
    "attacks = [LBFGS, CarliniWagnerL2, DeepFool, ProjectedGradientDescent,  ElasticNetMethod]\n",
    "attack_params = [lbfgs_params, cw_params, deepfool_params, pgd_params,  elasticnet_params]\n",
    "\n",
    "x = tf.placeholder(tf.float32, shape=(None,32,32,3))\n",
    "\n",
    "attack_results = []\n",
    "sess = keras.backend.get_session()\n",
    "for attack, param in zip(attacks, attack_params):\n",
    "    attack_wrap = attack(model_wrap, sess=sess)\n",
    "    adv_x = attack_wrap.generate(x, **param)\n",
    "    initialize_uninitialized(sess)\n",
    "    adv_images = np.array([sess.run(adv_x, feed_dict={x: sample_x[i*batch_size:(i+1)*batch_size]}) for i in range(test_scale//batch_size)])\n",
    "    adv_images = adv_images.reshape(-1,32,32,3)\n",
    "    attack_results.append(adv_images)"
   ]
  },
  {
   "cell_type": "code",
   "execution_count": 14,
   "metadata": {},
   "outputs": [],
   "source": [
    "for adv_images in attack_results:\n",
    "    succeed_indexes = []\n",
    "    for i in range(test_scale):\n",
    "        if np.argmax(model.predict(adv_images[i].reshape(-1, 32, 32, 3))) != np.argmax(sample_y[i]):\n",
    "            succeed_indexes.append(i)\n",
    "    adv_images = adv_images[succeed_indexes]"
   ]
  },
  {
   "cell_type": "markdown",
   "metadata": {},
   "source": [
    "这里验证发现所有攻击方式，都百分百攻击成功"
   ]
  },
  {
   "cell_type": "markdown",
   "metadata": {},
   "source": [
    "使用分类器对干净样本和对抗样本进行分类，得到分数，绘制ROC曲线"
   ]
  },
  {
   "cell_type": "code",
   "execution_count": 32,
   "metadata": {},
   "outputs": [],
   "source": [
    "output_probs= []\n",
    "true_label = []\n",
    "for adv_images in attack_results:\n",
    "    adv_prob = np.array([detector.predict(adv_image.reshape(-1, 32, 32, 3))[0][1] for adv_image in adv_images])\n",
    "    clean_prob = np.array([detector.predict(clean_image.reshape(-1, 32, 32, 3))[0][1] for clean_image in sample_x])\n",
    "    output_probs.append(np.concatenate([adv_prob, clean_prob]))\n",
    "    true_label.append(np.concatenate([np.ones_like(adv_prob), np.zeros_like(clean_prob)]))"
   ]
  },
  {
   "cell_type": "code",
   "execution_count": 50,
   "metadata": {
    "scrolled": true
   },
   "outputs": [
    {
     "data": {
      "image/png": "[encoded data removed]",
      "text/plain": [
       "<Figure size 432x288 with 6 Axes>"
      ]
     },
     "metadata": {
      "needs_background": "light"
     },
     "output_type": "display_data"
    }
   ],
   "source": [
    "%matplotlib inline\n",
    "\n",
    "from sklearn.metrics import roc_curve, auc\n",
    "import matplotlib.pyplot as plt\n",
    "\n",
    "attack_names = ['L-BFGS', 'CW attack', 'DeepFool', 'PGD', 'ElasticNet']\n",
    "assert len(true_label) == len(output_probs), \"Error due to in compatibility with label and probs\"\n",
    "\n",
    "\n",
    "fig, axs = plt.subplots(2, 3, constrained_layout=True)\n",
    "for i in range(len(output_probs)):\n",
    "    fpr, tpr, thresholds = roc_curve(true_label[i], output_probs[i])\n",
    "    roc_auc = auc(fpr, tpr)\n",
    "    axs[i//3, i%3].plot(fpr, tpr)\n",
    "    axs[i//3, i%3].set_title(attack_names[i]+' auc:%0.2f'%roc_auc)\n",
    "plt.show()"
   ]
  },
  {
   "cell_type": "code",
   "execution_count": null,
   "metadata": {},
   "outputs": [],
   "source": []
  }
 ],
 "metadata": {
  "kernelspec": {
   "display_name": "Python 3",
   "language": "python",
   "name": "python3"
  },
  "language_info": {
   "codemirror_mode": {
    "name": "ipython",
    "version": 3
   },
   "file_extension": ".py",
   "mimetype": "text/x-python",
   "name": "python",
   "nbconvert_exporter": "python",
   "pygments_lexer": "ipython3",
   "version": "3.5.2"
  }
 },
 "nbformat": 4,
 "nbformat_minor": 2
}
