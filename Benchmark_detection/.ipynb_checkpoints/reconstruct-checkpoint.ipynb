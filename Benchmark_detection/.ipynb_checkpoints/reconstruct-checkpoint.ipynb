{
 "cells": [
  {
   "cell_type": "code",
   "execution_count": 2,
   "metadata": {},
   "outputs": [
    {
     "ename": "ImportError",
     "evalue": "No module named 'modified_lbfgs'",
     "output_type": "error",
     "traceback": [
      "\u001b[0;31m\u001b[0m",
      "\u001b[0;31mImportError\u001b[0mTraceback (most recent call last)",
      "\u001b[0;32m<ipython-input-2-6accc5056a31>\u001b[0m in \u001b[0;36m<module>\u001b[0;34m\u001b[0m\n\u001b[1;32m      6\u001b[0m \u001b[0;32mfrom\u001b[0m \u001b[0mcleverhans\u001b[0m\u001b[0;34m.\u001b[0m\u001b[0mutils_keras\u001b[0m \u001b[0;32mimport\u001b[0m \u001b[0mKerasModelWrapper\u001b[0m\u001b[0;34m\u001b[0m\u001b[0m\n\u001b[1;32m      7\u001b[0m \u001b[0;31m#from cleverhans.attacks import LBFGS\u001b[0m\u001b[0;34m\u001b[0m\u001b[0;34m\u001b[0m\u001b[0m\n\u001b[0;32m----> 8\u001b[0;31m \u001b[0;32mfrom\u001b[0m \u001b[0mmodified_lbfgs\u001b[0m \u001b[0;32mimport\u001b[0m \u001b[0mLBFGS\u001b[0m\u001b[0;34m\u001b[0m\u001b[0m\n\u001b[0m\u001b[1;32m      9\u001b[0m \u001b[0;34m\u001b[0m\u001b[0m\n\u001b[1;32m     10\u001b[0m simple_network = keras.Sequential([\n",
      "\u001b[0;31mImportError\u001b[0m: No module named 'modified_lbfgs'"
     ]
    }
   ],
   "source": [
    "import tensorflow as tf\n",
    "import tensorflow.keras as keras\n",
    "from tensorflow.keras.layers import Conv2D, Activation\n",
    "import numpy as np\n",
    "\n",
    "from cleverhans.utils_keras import KerasModelWrapper\n",
    "#from cleverhans.attacks import LBFGS\n",
    "from modified_lbfgs import LBFGS\n",
    "\n",
    "simple_network = keras.Sequential([\n",
    "    Conv2D(1, (2, 2), input_shape=(3, 3, 1)),\n",
    "    Activation('softmax')\n",
    "])\n",
    "\n",
    "sess = keras.backend.get_session()\n",
    "x = tf.get_variable('foo', initializer=np.zeros((2, 3, 3, 1), dtype=np.float32))\n",
    "\n",
    "network_wrap = KerasModelWrapper(simple_network)\n",
    "lbfgs_wrap = LBFGS(network_wrap, sess=sess)\n",
    "\n",
    "lbfgs_params = {'batch_size':2}\n",
    "adv_x = lbfgs_wrap.generate(x, **lbfgs_params)\n",
    "\n",
    "sess.run(adv_x)"
   ]
  },
  {
   "cell_type": "code",
   "execution_count": null,
   "metadata": {},
   "outputs": [],
   "source": []
  }
 ],
 "metadata": {
  "kernelspec": {
   "display_name": "Python 3",
   "language": "python",
   "name": "python3"
  }
 },
 "nbformat": 4,
 "nbformat_minor": 2
}
