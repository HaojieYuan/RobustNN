{
 "cells": [
  {
   "cell_type": "markdown",
   "metadata": {},
   "source": [
    "样本读取，整理"
   ]
  },
  {
   "cell_type": "code",
   "execution_count": 1,
   "metadata": {},
   "outputs": [
    {
     "name": "stdout",
     "output_type": "stream",
     "text": [
      "WARNING:tensorflow:From /usr/local/lib/python3.5/dist-packages/tensorflow/python/ops/resource_variable_ops.py:435: colocate_with (from tensorflow.python.framework.ops) is deprecated and will be removed in a future version.\n",
      "Instructions for updating:\n",
      "Colocations handled automatically by placer.\n",
      "WARNING:tensorflow:From /usr/local/lib/python3.5/dist-packages/tensorflow/python/ops/math_ops.py:3066: to_int32 (from tensorflow.python.ops.math_ops) is deprecated and will be removed in a future version.\n",
      "Instructions for updating:\n",
      "Use tf.cast instead.\n"
     ]
    }
   ],
   "source": [
    "import tensorflow as tf\n",
    "import numpy as np\n",
    "from tensorflow import keras\n",
    "\n",
    "model_name = 'ResNet32_acc893.h5'\n",
    "model = keras.models.load_model(model_name)\n",
    "\n",
    "clean_images = np.load('../../pickles/cleanimages.npy')\n",
    "attack_results = np.load('../../pickles/advimages.npy')"
   ]
  },
  {
   "cell_type": "code",
   "execution_count": 2,
   "metadata": {},
   "outputs": [],
   "source": [
    "perturbed_images = np.copy(clean_images)\n",
    "for image in perturbed_images:\n",
    "    # 0.005 here results in a eucilid distance of about 0.3\n",
    "    image += np.random.normal(0, 0.005, (32,32,3))\n",
    "    image = np.clip(image, 0., 1.)"
   ]
  },
  {
   "cell_type": "code",
   "execution_count": 3,
   "metadata": {},
   "outputs": [],
   "source": [
    "%matplotlib inline\n",
    "import matplotlib.pyplot as plt"
   ]
  },
  {
   "cell_type": "markdown",
   "metadata": {},
   "source": [
    "计算LID"
   ]
  },
  {
   "cell_type": "code",
   "execution_count": 4,
   "metadata": {},
   "outputs": [],
   "source": [
    "from sklearn.metrics import roc_curve, auc\n",
    "def roc_calc(pos,neg):\n",
    "    pos = np.array(pos)\n",
    "    neg = np.array(neg)\n",
    "    label_pos = np.ones_like(pos)\n",
    "    label_neg = np.zeros_like(neg)\n",
    "    fpr, tpr, thresholds = roc_curve(np.concatenate([label_pos, label_neg]),\n",
    "                                    np.concatenate([pos, neg]))\n",
    "    roc_auc = auc(fpr, tpr)\n",
    "    \n",
    "    return roc_auc"
   ]
  },
  {
   "cell_type": "code",
   "execution_count": 5,
   "metadata": {},
   "outputs": [],
   "source": [
    "def l2_dist(x, y):\n",
    "    return np.linalg.norm(x-y)\n",
    "\n",
    "def LID(sample, batch):\n",
    "    batch_copy = batch.copy()\n",
    "    index = np.argwhere(batch_copy == sample)\n",
    "    batch_copy = np.delete(batch_copy, index)\n",
    "    dists = [l2_dist(sample, other_sample) for other_sample in batch_copy]\n",
    "    dist_max = max(dists)\n",
    "    lid = sum([np.log(dist/dist_max) for dist in dists])/float(len(dists))\n",
    "    \n",
    "    return -1.0/lid"
   ]
  },
  {
   "cell_type": "code",
   "execution_count": 6,
   "metadata": {
    "scrolled": true
   },
   "outputs": [
    {
     "name": "stdout",
     "output_type": "stream",
     "text": [
      "layer:-0 i:0\n",
      "layer:-0 i:1\n",
      "layer:-0 i:2\n",
      "layer:-0 i:3\n",
      "layer:-0 i:4\n",
      "layer:-0 i:5\n",
      "layer:-0 i:6\n",
      "layer:-0 i:7\n",
      "layer:-0 i:8\n",
      "layer:-0 i:9\n",
      "layer:-0 i:10\n",
      "layer:-0 i:11\n",
      "layer:-0 i:12\n",
      "layer:-0 i:13\n",
      "layer:-0 i:14\n",
      "layer:-0 i:15\n",
      "layer:-0 i:16\n",
      "layer:-0 i:17\n",
      "layer:-0 i:18\n",
      "layer:-0 i:19\n",
      "layer:-0 i:20\n",
      "layer:-0 i:21\n",
      "layer:-0 i:22\n",
      "layer:-0 i:23\n",
      "layer:-0 i:24\n",
      "layer:-0 i:25\n",
      "layer:-0 i:26\n",
      "layer:-0 i:27\n",
      "layer:-0 i:28\n",
      "layer:-0 i:29\n",
      "layer:-0 i:30\n",
      "layer:-0 i:31\n",
      "layer:-0 i:32\n",
      "layer:-0 i:33\n",
      "layer:-0 i:34\n",
      "layer:-0 i:35\n",
      "layer:-0 i:36\n",
      "layer:-0 i:37\n",
      "layer:-0 i:38\n",
      "layer:-0 i:39\n",
      "layer:-0 i:40\n",
      "layer:-0 i:41\n",
      "layer:-0 i:42\n",
      "layer:-0 i:43\n",
      "layer:-0 i:44\n",
      "layer:-0 i:45\n",
      "layer:-0 i:46\n",
      "layer:-0 i:47\n",
      "layer:-0 i:48\n",
      "layer:-0 i:49\n",
      "layer:-0 i:50\n",
      "layer:-0 i:51\n",
      "layer:-0 i:52\n",
      "layer:-0 i:53\n",
      "layer:-0 i:54\n",
      "layer:-0 i:55\n",
      "layer:-0 i:56\n",
      "layer:-0 i:57\n",
      "layer:-0 i:58\n",
      "layer:-0 i:59\n",
      "layer:-0 i:60\n",
      "layer:-0 i:61\n",
      "layer:-0 i:62\n",
      "layer:-0 i:63\n",
      "0.7380833625793457\n",
      "0.8974385261535645\n",
      "0.9755964279174805\n",
      "0.6237688064575195\n",
      "0.8775897026062012\n",
      "layer:-1 i:0\n",
      "layer:-1 i:1\n",
      "layer:-1 i:2\n",
      "layer:-1 i:3\n",
      "layer:-1 i:4\n",
      "layer:-1 i:5\n",
      "layer:-1 i:6\n",
      "layer:-1 i:7\n",
      "layer:-1 i:8\n",
      "layer:-1 i:9\n",
      "layer:-1 i:10\n",
      "layer:-1 i:11\n",
      "layer:-1 i:12\n",
      "layer:-1 i:13\n",
      "layer:-1 i:14\n",
      "layer:-1 i:15\n",
      "layer:-1 i:16\n",
      "layer:-1 i:17\n",
      "layer:-1 i:18\n",
      "layer:-1 i:19\n",
      "layer:-1 i:20\n",
      "layer:-1 i:21\n",
      "layer:-1 i:22\n",
      "layer:-1 i:23\n",
      "layer:-1 i:24\n",
      "layer:-1 i:25\n",
      "layer:-1 i:26\n",
      "layer:-1 i:27\n",
      "layer:-1 i:28\n",
      "layer:-1 i:29\n",
      "layer:-1 i:30\n",
      "layer:-1 i:31\n",
      "layer:-1 i:32\n",
      "layer:-1 i:33\n",
      "layer:-1 i:34\n",
      "layer:-1 i:35\n",
      "layer:-1 i:36\n",
      "layer:-1 i:37\n",
      "layer:-1 i:38\n",
      "layer:-1 i:39\n",
      "layer:-1 i:40\n",
      "layer:-1 i:41\n",
      "layer:-1 i:42\n",
      "layer:-1 i:43\n",
      "layer:-1 i:44\n",
      "layer:-1 i:45\n",
      "layer:-1 i:46\n",
      "layer:-1 i:47\n",
      "layer:-1 i:48\n",
      "layer:-1 i:49\n",
      "layer:-1 i:50\n",
      "layer:-1 i:51\n",
      "layer:-1 i:52\n",
      "layer:-1 i:53\n",
      "layer:-1 i:54\n",
      "layer:-1 i:55\n",
      "layer:-1 i:56\n",
      "layer:-1 i:57\n",
      "layer:-1 i:58\n",
      "layer:-1 i:59\n",
      "layer:-1 i:60\n",
      "layer:-1 i:61\n",
      "layer:-1 i:62\n",
      "layer:-1 i:63\n",
      "0.6675491333007812\n",
      "0.6133394241333008\n",
      "0.6409244537353516\n",
      "0.5509467124938965\n",
      "0.6228880882263184\n",
      "layer:-2 i:0\n",
      "layer:-2 i:1\n",
      "layer:-2 i:2\n",
      "layer:-2 i:3\n",
      "layer:-2 i:4\n",
      "layer:-2 i:5\n",
      "layer:-2 i:6\n",
      "layer:-2 i:7\n",
      "layer:-2 i:8\n",
      "layer:-2 i:9\n",
      "layer:-2 i:10\n",
      "layer:-2 i:11\n",
      "layer:-2 i:12\n",
      "layer:-2 i:13\n",
      "layer:-2 i:14\n",
      "layer:-2 i:15\n",
      "layer:-2 i:16\n",
      "layer:-2 i:17\n",
      "layer:-2 i:18\n",
      "layer:-2 i:19\n",
      "layer:-2 i:20\n",
      "layer:-2 i:21\n",
      "layer:-2 i:22\n",
      "layer:-2 i:23\n",
      "layer:-2 i:24\n",
      "layer:-2 i:25\n",
      "layer:-2 i:26\n",
      "layer:-2 i:27\n",
      "layer:-2 i:28\n",
      "layer:-2 i:29\n",
      "layer:-2 i:30\n",
      "layer:-2 i:31\n",
      "layer:-2 i:32\n",
      "layer:-2 i:33\n",
      "layer:-2 i:34\n",
      "layer:-2 i:35\n",
      "layer:-2 i:36\n",
      "layer:-2 i:37\n",
      "layer:-2 i:38\n",
      "layer:-2 i:39\n",
      "layer:-2 i:40\n",
      "layer:-2 i:41\n",
      "layer:-2 i:42\n",
      "layer:-2 i:43\n",
      "layer:-2 i:44\n",
      "layer:-2 i:45\n",
      "layer:-2 i:46\n",
      "layer:-2 i:47\n",
      "layer:-2 i:48\n",
      "layer:-2 i:49\n",
      "layer:-2 i:50\n",
      "layer:-2 i:51\n",
      "layer:-2 i:52\n",
      "layer:-2 i:53\n",
      "layer:-2 i:54\n",
      "layer:-2 i:55\n",
      "layer:-2 i:56\n",
      "layer:-2 i:57\n",
      "layer:-2 i:58\n",
      "layer:-2 i:59\n",
      "layer:-2 i:60\n",
      "layer:-2 i:61\n",
      "layer:-2 i:62\n",
      "layer:-2 i:63\n",
      "0.6675491333007812\n",
      "0.6133394241333008\n",
      "0.6409249305725098\n",
      "0.5509467124938965\n",
      "0.6228880882263184\n",
      "layer:-3 i:0\n"
     ]
    },
    {
     "ename": "KeyboardInterrupt",
     "evalue": "",
     "output_type": "error",
     "traceback": [
      "\u001b[0;31m\u001b[0m",
      "\u001b[0;31mKeyboardInterrupt\u001b[0mTraceback (most recent call last)",
      "\u001b[0;32m<ipython-input-6-bbfa3d0b038e>\u001b[0m in \u001b[0;36m<module>\u001b[0;34m\u001b[0m\n\u001b[1;32m     24\u001b[0m         \u001b[0mLID_batch_normal\u001b[0m \u001b[0;34m=\u001b[0m \u001b[0;34m[\u001b[0m\u001b[0mLID\u001b[0m\u001b[0;34m(\u001b[0m\u001b[0mnormal_out\u001b[0m\u001b[0;34m,\u001b[0m \u001b[0mnormal_outs\u001b[0m\u001b[0;34m)\u001b[0m \u001b[0;32mfor\u001b[0m \u001b[0mnormal_out\u001b[0m \u001b[0;32min\u001b[0m \u001b[0mnormal_outs\u001b[0m\u001b[0;34m]\u001b[0m\u001b[0;34m\u001b[0m\u001b[0m\n\u001b[1;32m     25\u001b[0m         \u001b[0mLID_batch_perturbed\u001b[0m \u001b[0;34m=\u001b[0m \u001b[0;34m[\u001b[0m\u001b[0mLID\u001b[0m\u001b[0;34m(\u001b[0m\u001b[0mperturbed_out\u001b[0m\u001b[0;34m,\u001b[0m \u001b[0mperturbed_outs\u001b[0m\u001b[0;34m)\u001b[0m \u001b[0;32mfor\u001b[0m \u001b[0mperturbed_out\u001b[0m \u001b[0;32min\u001b[0m \u001b[0mperturbed_outs\u001b[0m\u001b[0;34m]\u001b[0m\u001b[0;34m\u001b[0m\u001b[0m\n\u001b[0;32m---> 26\u001b[0;31m         \u001b[0mLID_batch_adv\u001b[0m \u001b[0;34m=\u001b[0m \u001b[0;34m[\u001b[0m\u001b[0;34m[\u001b[0m\u001b[0mLID\u001b[0m\u001b[0;34m(\u001b[0m\u001b[0mattack_out\u001b[0m\u001b[0;34m,\u001b[0m \u001b[0mattack_outs\u001b[0m\u001b[0;34m)\u001b[0m \u001b[0;32mfor\u001b[0m \u001b[0mattack_out\u001b[0m \u001b[0;32min\u001b[0m \u001b[0mattack_outs\u001b[0m\u001b[0;34m]\u001b[0m \u001b[0;32mfor\u001b[0m \u001b[0mattack_outs\u001b[0m \u001b[0;32min\u001b[0m \u001b[0madv_outs\u001b[0m\u001b[0;34m]\u001b[0m\u001b[0;34m\u001b[0m\u001b[0m\n\u001b[0m\u001b[1;32m     27\u001b[0m \u001b[0;34m\u001b[0m\u001b[0m\n\u001b[1;32m     28\u001b[0m         \u001b[0mLID_layer_normal\u001b[0m\u001b[0;34m.\u001b[0m\u001b[0mextend\u001b[0m\u001b[0;34m(\u001b[0m\u001b[0mLID_batch_normal\u001b[0m\u001b[0;34m)\u001b[0m\u001b[0;34m\u001b[0m\u001b[0m\n",
      "\u001b[0;32m<ipython-input-6-bbfa3d0b038e>\u001b[0m in \u001b[0;36m<listcomp>\u001b[0;34m(.0)\u001b[0m\n\u001b[1;32m     24\u001b[0m         \u001b[0mLID_batch_normal\u001b[0m \u001b[0;34m=\u001b[0m \u001b[0;34m[\u001b[0m\u001b[0mLID\u001b[0m\u001b[0;34m(\u001b[0m\u001b[0mnormal_out\u001b[0m\u001b[0;34m,\u001b[0m \u001b[0mnormal_outs\u001b[0m\u001b[0;34m)\u001b[0m \u001b[0;32mfor\u001b[0m \u001b[0mnormal_out\u001b[0m \u001b[0;32min\u001b[0m \u001b[0mnormal_outs\u001b[0m\u001b[0;34m]\u001b[0m\u001b[0;34m\u001b[0m\u001b[0m\n\u001b[1;32m     25\u001b[0m         \u001b[0mLID_batch_perturbed\u001b[0m \u001b[0;34m=\u001b[0m \u001b[0;34m[\u001b[0m\u001b[0mLID\u001b[0m\u001b[0;34m(\u001b[0m\u001b[0mperturbed_out\u001b[0m\u001b[0;34m,\u001b[0m \u001b[0mperturbed_outs\u001b[0m\u001b[0;34m)\u001b[0m \u001b[0;32mfor\u001b[0m \u001b[0mperturbed_out\u001b[0m \u001b[0;32min\u001b[0m \u001b[0mperturbed_outs\u001b[0m\u001b[0;34m]\u001b[0m\u001b[0;34m\u001b[0m\u001b[0m\n\u001b[0;32m---> 26\u001b[0;31m         \u001b[0mLID_batch_adv\u001b[0m \u001b[0;34m=\u001b[0m \u001b[0;34m[\u001b[0m\u001b[0;34m[\u001b[0m\u001b[0mLID\u001b[0m\u001b[0;34m(\u001b[0m\u001b[0mattack_out\u001b[0m\u001b[0;34m,\u001b[0m \u001b[0mattack_outs\u001b[0m\u001b[0;34m)\u001b[0m \u001b[0;32mfor\u001b[0m \u001b[0mattack_out\u001b[0m \u001b[0;32min\u001b[0m \u001b[0mattack_outs\u001b[0m\u001b[0;34m]\u001b[0m \u001b[0;32mfor\u001b[0m \u001b[0mattack_outs\u001b[0m \u001b[0;32min\u001b[0m \u001b[0madv_outs\u001b[0m\u001b[0;34m]\u001b[0m\u001b[0;34m\u001b[0m\u001b[0m\n\u001b[0m\u001b[1;32m     27\u001b[0m \u001b[0;34m\u001b[0m\u001b[0m\n\u001b[1;32m     28\u001b[0m         \u001b[0mLID_layer_normal\u001b[0m\u001b[0;34m.\u001b[0m\u001b[0mextend\u001b[0m\u001b[0;34m(\u001b[0m\u001b[0mLID_batch_normal\u001b[0m\u001b[0;34m)\u001b[0m\u001b[0;34m\u001b[0m\u001b[0m\n",
      "\u001b[0;32m<ipython-input-6-bbfa3d0b038e>\u001b[0m in \u001b[0;36m<listcomp>\u001b[0;34m(.0)\u001b[0m\n\u001b[1;32m     24\u001b[0m         \u001b[0mLID_batch_normal\u001b[0m \u001b[0;34m=\u001b[0m \u001b[0;34m[\u001b[0m\u001b[0mLID\u001b[0m\u001b[0;34m(\u001b[0m\u001b[0mnormal_out\u001b[0m\u001b[0;34m,\u001b[0m \u001b[0mnormal_outs\u001b[0m\u001b[0;34m)\u001b[0m \u001b[0;32mfor\u001b[0m \u001b[0mnormal_out\u001b[0m \u001b[0;32min\u001b[0m \u001b[0mnormal_outs\u001b[0m\u001b[0;34m]\u001b[0m\u001b[0;34m\u001b[0m\u001b[0m\n\u001b[1;32m     25\u001b[0m         \u001b[0mLID_batch_perturbed\u001b[0m \u001b[0;34m=\u001b[0m \u001b[0;34m[\u001b[0m\u001b[0mLID\u001b[0m\u001b[0;34m(\u001b[0m\u001b[0mperturbed_out\u001b[0m\u001b[0;34m,\u001b[0m \u001b[0mperturbed_outs\u001b[0m\u001b[0;34m)\u001b[0m \u001b[0;32mfor\u001b[0m \u001b[0mperturbed_out\u001b[0m \u001b[0;32min\u001b[0m \u001b[0mperturbed_outs\u001b[0m\u001b[0;34m]\u001b[0m\u001b[0;34m\u001b[0m\u001b[0m\n\u001b[0;32m---> 26\u001b[0;31m         \u001b[0mLID_batch_adv\u001b[0m \u001b[0;34m=\u001b[0m \u001b[0;34m[\u001b[0m\u001b[0;34m[\u001b[0m\u001b[0mLID\u001b[0m\u001b[0;34m(\u001b[0m\u001b[0mattack_out\u001b[0m\u001b[0;34m,\u001b[0m \u001b[0mattack_outs\u001b[0m\u001b[0;34m)\u001b[0m \u001b[0;32mfor\u001b[0m \u001b[0mattack_out\u001b[0m \u001b[0;32min\u001b[0m \u001b[0mattack_outs\u001b[0m\u001b[0;34m]\u001b[0m \u001b[0;32mfor\u001b[0m \u001b[0mattack_outs\u001b[0m \u001b[0;32min\u001b[0m \u001b[0madv_outs\u001b[0m\u001b[0;34m]\u001b[0m\u001b[0;34m\u001b[0m\u001b[0m\n\u001b[0m\u001b[1;32m     27\u001b[0m \u001b[0;34m\u001b[0m\u001b[0m\n\u001b[1;32m     28\u001b[0m         \u001b[0mLID_layer_normal\u001b[0m\u001b[0;34m.\u001b[0m\u001b[0mextend\u001b[0m\u001b[0;34m(\u001b[0m\u001b[0mLID_batch_normal\u001b[0m\u001b[0;34m)\u001b[0m\u001b[0;34m\u001b[0m\u001b[0m\n",
      "\u001b[0;32m<ipython-input-5-4eddbd787f3d>\u001b[0m in \u001b[0;36mLID\u001b[0;34m(sample, batch)\u001b[0m\n\u001b[1;32m      8\u001b[0m     \u001b[0mdists\u001b[0m \u001b[0;34m=\u001b[0m \u001b[0;34m[\u001b[0m\u001b[0ml2_dist\u001b[0m\u001b[0;34m(\u001b[0m\u001b[0msample\u001b[0m\u001b[0;34m,\u001b[0m \u001b[0mother_sample\u001b[0m\u001b[0;34m)\u001b[0m \u001b[0;32mfor\u001b[0m \u001b[0mother_sample\u001b[0m \u001b[0;32min\u001b[0m \u001b[0mbatch_copy\u001b[0m\u001b[0;34m]\u001b[0m\u001b[0;34m\u001b[0m\u001b[0m\n\u001b[1;32m      9\u001b[0m     \u001b[0mdist_max\u001b[0m \u001b[0;34m=\u001b[0m \u001b[0mmax\u001b[0m\u001b[0;34m(\u001b[0m\u001b[0mdists\u001b[0m\u001b[0;34m)\u001b[0m\u001b[0;34m\u001b[0m\u001b[0m\n\u001b[0;32m---> 10\u001b[0;31m     \u001b[0mlid\u001b[0m \u001b[0;34m=\u001b[0m \u001b[0msum\u001b[0m\u001b[0;34m(\u001b[0m\u001b[0;34m[\u001b[0m\u001b[0mnp\u001b[0m\u001b[0;34m.\u001b[0m\u001b[0mlog\u001b[0m\u001b[0;34m(\u001b[0m\u001b[0mdist\u001b[0m\u001b[0;34m/\u001b[0m\u001b[0mdist_max\u001b[0m\u001b[0;34m)\u001b[0m \u001b[0;32mfor\u001b[0m \u001b[0mdist\u001b[0m \u001b[0;32min\u001b[0m \u001b[0mdists\u001b[0m\u001b[0;34m]\u001b[0m\u001b[0;34m)\u001b[0m\u001b[0;34m/\u001b[0m\u001b[0mfloat\u001b[0m\u001b[0;34m(\u001b[0m\u001b[0mlen\u001b[0m\u001b[0;34m(\u001b[0m\u001b[0mdists\u001b[0m\u001b[0;34m)\u001b[0m\u001b[0;34m)\u001b[0m\u001b[0;34m\u001b[0m\u001b[0m\n\u001b[0m\u001b[1;32m     11\u001b[0m \u001b[0;34m\u001b[0m\u001b[0m\n\u001b[1;32m     12\u001b[0m     \u001b[0;32mreturn\u001b[0m \u001b[0;34m-\u001b[0m\u001b[0;36m1.0\u001b[0m\u001b[0;34m/\u001b[0m\u001b[0mlid\u001b[0m\u001b[0;34m\u001b[0m\u001b[0m\n",
      "\u001b[0;32m<ipython-input-5-4eddbd787f3d>\u001b[0m in \u001b[0;36m<listcomp>\u001b[0;34m(.0)\u001b[0m\n\u001b[1;32m      8\u001b[0m     \u001b[0mdists\u001b[0m \u001b[0;34m=\u001b[0m \u001b[0;34m[\u001b[0m\u001b[0ml2_dist\u001b[0m\u001b[0;34m(\u001b[0m\u001b[0msample\u001b[0m\u001b[0;34m,\u001b[0m \u001b[0mother_sample\u001b[0m\u001b[0;34m)\u001b[0m \u001b[0;32mfor\u001b[0m \u001b[0mother_sample\u001b[0m \u001b[0;32min\u001b[0m \u001b[0mbatch_copy\u001b[0m\u001b[0;34m]\u001b[0m\u001b[0;34m\u001b[0m\u001b[0m\n\u001b[1;32m      9\u001b[0m     \u001b[0mdist_max\u001b[0m \u001b[0;34m=\u001b[0m \u001b[0mmax\u001b[0m\u001b[0;34m(\u001b[0m\u001b[0mdists\u001b[0m\u001b[0;34m)\u001b[0m\u001b[0;34m\u001b[0m\u001b[0m\n\u001b[0;32m---> 10\u001b[0;31m     \u001b[0mlid\u001b[0m \u001b[0;34m=\u001b[0m \u001b[0msum\u001b[0m\u001b[0;34m(\u001b[0m\u001b[0;34m[\u001b[0m\u001b[0mnp\u001b[0m\u001b[0;34m.\u001b[0m\u001b[0mlog\u001b[0m\u001b[0;34m(\u001b[0m\u001b[0mdist\u001b[0m\u001b[0;34m/\u001b[0m\u001b[0mdist_max\u001b[0m\u001b[0;34m)\u001b[0m \u001b[0;32mfor\u001b[0m \u001b[0mdist\u001b[0m \u001b[0;32min\u001b[0m \u001b[0mdists\u001b[0m\u001b[0;34m]\u001b[0m\u001b[0;34m)\u001b[0m\u001b[0;34m/\u001b[0m\u001b[0mfloat\u001b[0m\u001b[0;34m(\u001b[0m\u001b[0mlen\u001b[0m\u001b[0;34m(\u001b[0m\u001b[0mdists\u001b[0m\u001b[0;34m)\u001b[0m\u001b[0;34m)\u001b[0m\u001b[0;34m\u001b[0m\u001b[0m\n\u001b[0m\u001b[1;32m     11\u001b[0m \u001b[0;34m\u001b[0m\u001b[0m\n\u001b[1;32m     12\u001b[0m     \u001b[0;32mreturn\u001b[0m \u001b[0;34m-\u001b[0m\u001b[0;36m1.0\u001b[0m\u001b[0;34m/\u001b[0m\u001b[0mlid\u001b[0m\u001b[0;34m\u001b[0m\u001b[0m\n",
      "\u001b[0;31mKeyboardInterrupt\u001b[0m: "
     ]
    }
   ],
   "source": [
    "from tensorflow.keras.models import Model\n",
    "mini_batch_size = 16\n",
    "\n",
    "sess = keras.backend.get_session()\n",
    "layer_number = 0\n",
    "for layer in model.layers[::-1]:\n",
    "    # build model with input and output with each layer\n",
    "    x = tf.placeholder(tf.float32, shape=(None, 32, 32, 3))\n",
    "    model_tmp = Model(inputs=model.input, outputs=layer.output)\n",
    "    out = model_tmp(x)\n",
    "    \n",
    "    LID_layer_normal = []\n",
    "    LID_layer_perturbed = []\n",
    "    LID_layer_adv = []\n",
    "\n",
    "    for i in range(len(clean_images)//mini_batch_size):\n",
    "        print(\"layer:-%d i:%d\" % (layer_number, i))\n",
    "        start_i = i*mini_batch_size\n",
    "        end_i = (i+1)*mini_batch_size\n",
    "        normal_outs = out.eval(session=sess, feed_dict={x:clean_images[start_i:end_i]})\n",
    "        perturbed_outs = out.eval(session=sess, feed_dict={x:perturbed_images[start_i:end_i]})\n",
    "        adv_outs = [out.eval(session=sess, feed_dict={x:adv_images[start_i:end_i]}) for adv_images in attack_results]\n",
    "        \n",
    "        LID_batch_normal = [LID(normal_out, normal_outs) for normal_out in normal_outs]\n",
    "        LID_batch_perturbed = [LID(perturbed_out, perturbed_outs) for perturbed_out in perturbed_outs]\n",
    "        LID_batch_adv = [[LID(attack_out, attack_outs) for attack_out in attack_outs] for attack_outs in adv_outs]\n",
    "        \n",
    "        LID_layer_normal.extend(LID_batch_normal)\n",
    "        LID_layer_perturbed.extend(LID_batch_perturbed)\n",
    "        if not LID_layer_adv:\n",
    "            LID_layer_adv = LID_batch_adv\n",
    "        else:\n",
    "            for layer_out,batch_out in zip(LID_layer_adv, LID_batch_adv):\n",
    "                layer_out.extend(batch_out)\n",
    "    \n",
    "    LID_layer_normal.extend(LID_layer_perturbed)\n",
    "    LID_pos = LID_layer_normal\n",
    "    for LID_neg in LID_layer_adv:\n",
    "        print(1-roc_calc(LID_pos, LID_neg))\n",
    "    layer_number += 1"
   ]
  },
  {
   "cell_type": "markdown",
   "metadata": {},
   "source": [
    "绘制ROC"
   ]
  },
  {
   "cell_type": "code",
   "execution_count": 30,
   "metadata": {
    "scrolled": true
   },
   "outputs": [
    {
     "ename": "ValueError",
     "evalue": "unknown format is not supported",
     "output_type": "error",
     "traceback": [
      "\u001b[0;31m\u001b[0m",
      "\u001b[0;31mValueError\u001b[0mTraceback (most recent call last)",
      "\u001b[0;32m<ipython-input-30-0f651d5505db>\u001b[0m in \u001b[0;36m<module>\u001b[0;34m\u001b[0m\n\u001b[1;32m      1\u001b[0m \u001b[0mLID_pos\u001b[0m \u001b[0;34m=\u001b[0m \u001b[0mLID_layer_normal\u001b[0m\u001b[0;34m\u001b[0m\u001b[0m\n\u001b[1;32m      2\u001b[0m \u001b[0;32mfor\u001b[0m \u001b[0mLID_neg\u001b[0m \u001b[0;32min\u001b[0m \u001b[0mLID_layer_adv\u001b[0m\u001b[0;34m:\u001b[0m\u001b[0;34m\u001b[0m\u001b[0m\n\u001b[0;32m----> 3\u001b[0;31m         \u001b[0mprint\u001b[0m\u001b[0;34m(\u001b[0m\u001b[0mroc_calc\u001b[0m\u001b[0;34m(\u001b[0m\u001b[0mLID_pos\u001b[0m\u001b[0;34m,\u001b[0m \u001b[0mLID_neg\u001b[0m\u001b[0;34m)\u001b[0m\u001b[0;34m)\u001b[0m\u001b[0;34m\u001b[0m\u001b[0m\n\u001b[0m",
      "\u001b[0;32m<ipython-input-16-9b81200fec30>\u001b[0m in \u001b[0;36mroc_calc\u001b[0;34m(pos, neg)\u001b[0m\n\u001b[1;32m      5\u001b[0m     \u001b[0mlabel_neg\u001b[0m \u001b[0;34m=\u001b[0m \u001b[0mnp\u001b[0m\u001b[0;34m.\u001b[0m\u001b[0mzeros_like\u001b[0m\u001b[0;34m(\u001b[0m\u001b[0mneg\u001b[0m\u001b[0;34m)\u001b[0m\u001b[0;34m\u001b[0m\u001b[0m\n\u001b[1;32m      6\u001b[0m     fpr, tpr, thresholds = roc_curve(np.concatenate([label_pos, label_neg]),\n\u001b[0;32m----> 7\u001b[0;31m                                     np.concatenate([pos, neg]))\n\u001b[0m\u001b[1;32m      8\u001b[0m     \u001b[0mroc_auc\u001b[0m \u001b[0;34m=\u001b[0m \u001b[0mauc\u001b[0m\u001b[0;34m(\u001b[0m\u001b[0mfpr\u001b[0m\u001b[0;34m,\u001b[0m \u001b[0mtpr\u001b[0m\u001b[0;34m)\u001b[0m\u001b[0;34m\u001b[0m\u001b[0m\n\u001b[1;32m      9\u001b[0m \u001b[0;34m\u001b[0m\u001b[0m\n",
      "\u001b[0;32m/usr/local/lib/python3.5/dist-packages/sklearn/metrics/ranking.py\u001b[0m in \u001b[0;36mroc_curve\u001b[0;34m(y_true, y_score, pos_label, sample_weight, drop_intermediate)\u001b[0m\n\u001b[1;32m    616\u001b[0m     \"\"\"\n\u001b[1;32m    617\u001b[0m     fps, tps, thresholds = _binary_clf_curve(\n\u001b[0;32m--> 618\u001b[0;31m         y_true, y_score, pos_label=pos_label, sample_weight=sample_weight)\n\u001b[0m\u001b[1;32m    619\u001b[0m \u001b[0;34m\u001b[0m\u001b[0m\n\u001b[1;32m    620\u001b[0m     \u001b[0;31m# Attempt to drop thresholds corresponding to points in between and\u001b[0m\u001b[0;34m\u001b[0m\u001b[0;34m\u001b[0m\u001b[0m\n",
      "\u001b[0;32m/usr/local/lib/python3.5/dist-packages/sklearn/metrics/ranking.py\u001b[0m in \u001b[0;36m_binary_clf_curve\u001b[0;34m(y_true, y_score, pos_label, sample_weight)\u001b[0m\n\u001b[1;32m    395\u001b[0m     if not (y_type == \"binary\" or\n\u001b[1;32m    396\u001b[0m             (y_type == \"multiclass\" and pos_label is not None)):\n\u001b[0;32m--> 397\u001b[0;31m         \u001b[0;32mraise\u001b[0m \u001b[0mValueError\u001b[0m\u001b[0;34m(\u001b[0m\u001b[0;34m\"{0} format is not supported\"\u001b[0m\u001b[0;34m.\u001b[0m\u001b[0mformat\u001b[0m\u001b[0;34m(\u001b[0m\u001b[0my_type\u001b[0m\u001b[0;34m)\u001b[0m\u001b[0;34m)\u001b[0m\u001b[0;34m\u001b[0m\u001b[0m\n\u001b[0m\u001b[1;32m    398\u001b[0m \u001b[0;34m\u001b[0m\u001b[0m\n\u001b[1;32m    399\u001b[0m     \u001b[0mcheck_consistent_length\u001b[0m\u001b[0;34m(\u001b[0m\u001b[0my_true\u001b[0m\u001b[0;34m,\u001b[0m \u001b[0my_score\u001b[0m\u001b[0;34m,\u001b[0m \u001b[0msample_weight\u001b[0m\u001b[0;34m)\u001b[0m\u001b[0;34m\u001b[0m\u001b[0m\n",
      "\u001b[0;31mValueError\u001b[0m: unknown format is not supported"
     ]
    }
   ],
   "source": [
    "LID_pos = LID_layer_normal\n",
    "for LID_neg in LID_layer_adv:\n",
    "        print(roc_calc(LID_pos, LID_neg))"
   ]
  },
  {
   "cell_type": "code",
   "execution_count": 12,
   "metadata": {},
   "outputs": [
    {
     "name": "stderr",
     "output_type": "stream",
     "text": [
      "Clipping input data to the valid range for imshow with RGB data ([0..1] for floats or [0..255] for integers).\n"
     ]
    },
    {
     "data": {
      "text/plain": [
       "<matplotlib.image.AxesImage at 0x7fcfa4cd8ac8>"
      ]
     },
     "execution_count": 12,
     "metadata": {},
     "output_type": "execute_result"
    },
    {
     "data": {
      "image/png": "[encoded data removed]",
      "text/plain": [
       "<Figure size 432x288 with 1 Axes>"
      ]
     },
     "metadata": {
      "needs_background": "light"
     },
     "output_type": "display_data"
    }
   ],
   "source": [
    "plt.imshow(10*(perturbed_images[3] - clean_images[3]))"
   ]
  },
  {
   "cell_type": "code",
   "execution_count": 43,
   "metadata": {},
   "outputs": [
    {
     "data": {
      "text/plain": [
       "(5, 48)"
      ]
     },
     "execution_count": 43,
     "metadata": {},
     "output_type": "execute_result"
    }
   ],
   "source": [
    "z = np.array(LID_layer_adv)\n",
    "z.shape"
   ]
  },
  {
   "cell_type": "code",
   "execution_count": null,
   "metadata": {},
   "outputs": [],
   "source": []
  }
 ],
 "metadata": {
  "kernelspec": {
   "display_name": "Python 3",
   "language": "python",
   "name": "python3"
  },
  "language_info": {
   "codemirror_mode": {
    "name": "ipython",
    "version": 3
   },
   "file_extension": ".py",
   "mimetype": "text/x-python",
   "name": "python",
   "nbconvert_exporter": "python",
   "pygments_lexer": "ipython3",
   "version": "3.5.2"
  }
 },
 "nbformat": 4,
 "nbformat_minor": 2
}
