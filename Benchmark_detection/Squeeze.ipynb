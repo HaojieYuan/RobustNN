{
 "cells": [
  {
   "cell_type": "code",
   "execution_count": 1,
   "metadata": {},
   "outputs": [
    {
     "name": "stdout",
     "output_type": "stream",
     "text": [
      "WARNING:tensorflow:From /usr/local/lib/python3.5/dist-packages/tensorflow/python/ops/resource_variable_ops.py:435: colocate_with (from tensorflow.python.framework.ops) is deprecated and will be removed in a future version.\n",
      "Instructions for updating:\n",
      "Colocations handled automatically by placer.\n",
      "WARNING:tensorflow:From /usr/local/lib/python3.5/dist-packages/tensorflow/python/ops/math_ops.py:3066: to_int32 (from tensorflow.python.ops.math_ops) is deprecated and will be removed in a future version.\n",
      "Instructions for updating:\n",
      "Use tf.cast instead.\n"
     ]
    }
   ],
   "source": [
    "import tensorflow as tf\n",
    "import numpy as np\n",
    "from tensorflow import keras\n",
    "\n",
    "model_name = 'ResNet32_acc893.h5'\n",
    "model = keras.models.load_model(model_name)\n",
    "squeeze_bits = 4"
   ]
  },
  {
   "cell_type": "code",
   "execution_count": 2,
   "metadata": {},
   "outputs": [
    {
     "name": "stderr",
     "output_type": "stream",
     "text": [
      "Using TensorFlow backend.\n"
     ]
    }
   ],
   "source": [
    "from utils import cifar10_load\n",
    "(x_train, y_train), (x_dev, y_dev), (x_test, y_test) = cifar10_load()"
   ]
  },
  {
   "cell_type": "code",
   "execution_count": 3,
   "metadata": {},
   "outputs": [],
   "source": [
    "clean_images = np.load('../../pickles/cleanimages.npy')\n",
    "attack_results = np.load('../../pickles/advimages.npy')"
   ]
  },
  {
   "cell_type": "code",
   "execution_count": 4,
   "metadata": {
    "scrolled": true
   },
   "outputs": [
    {
     "name": "stdout",
     "output_type": "stream",
     "text": [
      "WARNING:tensorflow:From <ipython-input-4-1e59758a3015>:9: div (from tensorflow.python.ops.math_ops) is deprecated and will be removed in a future version.\n",
      "Instructions for updating:\n",
      "Deprecated in favor of operator or tf.math.divide.\n"
     ]
    }
   ],
   "source": [
    "x = tf.placeholder(tf.float32, shape=(None,32,32,3))\n",
    "#def squeeze(x):\n",
    "#    return int(x*(2^squeeze_bits-1))/float(squeeze_bits-1)\n",
    "\n",
    "#wrap = tf.py_func(squeeze, [x], tf.float32)\n",
    "#x_squeeze = int(x*(2^squeeze_bits-1))/float(squeeze_bits-1)\n",
    "npp_int = 2**squeeze_bits-1\n",
    "x_int = tf.rint(tf.multiply(x, npp_int))\n",
    "x_squeeze = tf.div(x_int, npp_int)\n",
    "\n",
    "x_out = model(x)\n",
    "squeeze_out = model(x_squeeze)\n",
    "\n",
    "score = tf.reduce_sum(tf.abs(x_out-squeeze_out))"
   ]
  },
  {
   "cell_type": "code",
   "execution_count": 5,
   "metadata": {},
   "outputs": [],
   "source": [
    "sess = keras.backend.get_session()\n",
    "output_probs= []\n",
    "true_label = []\n",
    "for adv_images in attack_results:\n",
    "    adv_prob = np.array([sess.run(score, feed_dict={x: adv_image.reshape(-1, 32, 32, 3)}) for adv_image in adv_images])\n",
    "    clean_prob = np.array([sess.run(score, feed_dict={x: clean_image.reshape(-1, 32, 32, 3)})  for clean_image in clean_images])\n",
    "    output_probs.append(np.concatenate([adv_prob, clean_prob]))\n",
    "    true_label.append(np.concatenate([np.ones_like(adv_prob), np.zeros_like(clean_prob)]))"
   ]
  },
  {
   "cell_type": "code",
   "execution_count": 6,
   "metadata": {},
   "outputs": [
    {
     "data": {
      "image/png": "[encoded data removed]",
      "text/plain": [
       "<Figure size 432x288 with 6 Axes>"
      ]
     },
     "metadata": {
      "needs_background": "light"
     },
     "output_type": "display_data"
    }
   ],
   "source": [
    "%matplotlib inline\n",
    "\n",
    "from sklearn.metrics import roc_curve, auc\n",
    "import matplotlib.pyplot as plt\n",
    "\n",
    "attack_names = ['L-BFGS', 'CW attack', 'DeepFool', 'PGD', 'ElasticNet']\n",
    "assert len(true_label) == len(output_probs), \"Error due to in compatibility with label and probs\"\n",
    "\n",
    "\n",
    "fig, axs = plt.subplots(2, 3, constrained_layout=True)\n",
    "for i in range(len(output_probs)):\n",
    "    fpr, tpr, thresholds = roc_curve(true_label[i], output_probs[i])\n",
    "    roc_auc = auc(fpr, tpr)\n",
    "    axs[i//3, i%3].plot(fpr, tpr)\n",
    "    axs[i//3, i%3].set_title(attack_names[i]+' auc:%0.2f'%roc_auc)\n",
    "plt.show()"
   ]
  },
  {
   "cell_type": "code",
   "execution_count": 20,
   "metadata": {},
   "outputs": [
    {
     "name": "stdout",
     "output_type": "stream",
     "text": [
      "[[5.0172967e-01 1.9826766e-04 6.2839098e-09 5.0566001e-08 5.1430927e-08\n",
      "  1.2588602e-08 1.9114384e-06 1.5619671e-06 3.5594162e-03 4.9450910e-01]]\n",
      "[[9.9994493e-01 6.2625685e-07 1.5607865e-09 1.6766744e-10 1.1434395e-08\n",
      "  2.6219582e-10 1.1562032e-08 6.0602446e-08 3.2040691e-05 2.2338654e-05]]\n",
      "[[5.2115506e-01 2.0046141e-04 7.5336866e-09 6.0401810e-08 5.7376955e-08\n",
      "  1.2944845e-08 2.3802631e-06 1.4742212e-06 5.5837543e-03 4.7305676e-01]]\n",
      "[[9.2364602e-17 1.0000000e+00 8.7943623e-14 2.1165691e-14 3.2096032e-26\n",
      "  5.4049626e-10 7.2404856e-12 5.3613702e-20 1.1582807e-18 5.3588048e-16]]\n",
      "[[9.9998498e-01 9.0211302e-08 8.0327389e-10 2.6740846e-10 7.7684099e-09\n",
      "  2.4568850e-10 2.1608054e-08 1.6005730e-08 1.3317284e-05 1.5667184e-06]]\n"
     ]
    }
   ],
   "source": [
    "for i in range(5):\n",
    "    print(model.predict(attack_results[i][74].reshape(-1,32,32,3)))"
   ]
  },
  {
   "cell_type": "code",
   "execution_count": 21,
   "metadata": {},
   "outputs": [
    {
     "data": {
      "text/plain": [
       "array([[4.6068733e-03, 4.7435246e-05, 3.6993278e-10, 7.0976718e-09,\n",
       "        1.6266445e-09, 9.6065333e-10, 2.3828494e-07, 9.7132954e-08,\n",
       "        2.6060091e-04, 9.9508470e-01]], dtype=float32)"
      ]
     },
     "execution_count": 21,
     "metadata": {},
     "output_type": "execute_result"
    }
   ],
   "source": [
    "model.predict(clean_images[74].reshape(-1,32,32,3))"
   ]
  },
  {
   "cell_type": "code",
   "execution_count": 22,
   "metadata": {},
   "outputs": [
    {
     "data": {
      "text/plain": [
       "<matplotlib.image.AxesImage at 0x7ff430310b00>"
      ]
     },
     "execution_count": 22,
     "metadata": {},
     "output_type": "execute_result"
    },
    {
     "data": {
      "image/png": "[encoded data removed]",
      "text/plain": [
       "<Figure size 432x288 with 1 Axes>"
      ]
     },
     "metadata": {
      "needs_background": "light"
     },
     "output_type": "display_data"
    }
   ],
   "source": [
    "plt.imshow(attack_results[0][74])"
   ]
  },
  {
   "cell_type": "code",
   "execution_count": 16,
   "metadata": {},
   "outputs": [
    {
     "data": {
      "text/plain": [
       "<matplotlib.image.AxesImage at 0x7ff44004f2e8>"
      ]
     },
     "execution_count": 16,
     "metadata": {},
     "output_type": "execute_result"
    },
    {
     "data": {
      "image/png": "[encoded data removed]",
      "text/plain": [
       "<Figure size 432x288 with 1 Axes>"
      ]
     },
     "metadata": {
      "needs_background": "light"
     },
     "output_type": "display_data"
    }
   ],
   "source": [
    "plt.imshow(clean_images[74])"
   ]
  },
  {
   "cell_type": "code",
   "execution_count": null,
   "metadata": {},
   "outputs": [],
   "source": []
  }
 ],
 "metadata": {
  "kernelspec": {
   "display_name": "Python 3",
   "language": "python",
   "name": "python3"
  },
  "language_info": {
   "codemirror_mode": {
    "name": "ipython",
    "version": 3
   },
   "file_extension": ".py",
   "mimetype": "text/x-python",
   "name": "python",
   "nbconvert_exporter": "python",
   "pygments_lexer": "ipython3",
   "version": "3.5.2"
  }
 },
 "nbformat": 4,
 "nbformat_minor": 2
}
