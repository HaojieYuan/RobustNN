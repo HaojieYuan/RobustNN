{
 "cells": [
  {
   "cell_type": "code",
   "execution_count": null,
   "metadata": {},
   "outputs": [],
   "source": [
    "import tensorflow as tf\n",
    "import tensorflow.keras as keras\n",
    "from utils import cifar10_load\n",
    "\n",
    "model_name=''\n",
    "detector_name=''\n",
    "\n",
    "(x_train, y_train), (x_dev, y_dev), (x_test, y_test) = cifar10_load()"
   ]
  },
  {
   "cell_type": "code",
   "execution_count": null,
   "metadata": {},
   "outputs": [],
   "source": [
    "model = keras.models.load_model(model_name)\n",
    "detector = keras.models.load_model(detector_name)"
   ]
  },
  {
   "cell_type": "code",
   "execution_count": null,
   "metadata": {},
   "outputs": [],
   "source": [
    "cw_params = {'batch_size': 1,\n",
    "             'confidence': 10,\n",
    "             'learning_rate': 0.1,\n",
    "             'binary_search_steps': 5,\n",
    "             'max_iterations': 1000,\n",
    "             'abort_early': True,\n",
    "             'initial_const': 0.01,\n",
    "             'clip_min': 0,\n",
    "             'clip_max': 1}\n",
    "\n",
    "deepfool_params = {'nb_candidate': 10,\n",
    "                   'overshoot': 0.02,\n",
    "                   'max_iter': 50,\n",
    "                   'clip_min': 0.,\n",
    "                   'clip_max': 1.}\n",
    "\n",
    "pgd_params = {\n",
    "    \n",
    "}"
   ]
  },
  {
   "cell_type": "code",
   "execution_count": null,
   "metadata": {},
   "outputs": [],
   "source": [
    "from cleverhans.utils_keras import KerasModelWrapper\n",
    "from cleverhans.attacks import CarliniWagnerL2, DeepFool, ProjectedGradientDescent, LBFGS, ElasticNetMethod\n",
    "from cleverhans.utils_tf import model_eval\n",
    "\n",
    "model_wrap = KerasModelWrapper(model)\n",
    "attacks = [CarliniWagnerL2, DeepFool, ProjectedGradientDescent, LBFGS, ElasticNetMethod]\n",
    "\n",
    "for attack, param in zip(attacks, attack_params):\n",
    "    attack_wrap = attak(model_wrap)\n",
    "    adv_x = attack_wrap"
   ]
  }
 ],
 "metadata": {
  "kernelspec": {
   "display_name": "Python 3",
   "language": "python",
   "name": "python3"
  },
  "language_info": {
   "codemirror_mode": {
    "name": "ipython",
    "version": 3
   },
   "file_extension": ".py",
   "mimetype": "text/x-python",
   "name": "python",
   "nbconvert_exporter": "python",
   "pygments_lexer": "ipython3",
   "version": "3.5.2"
  }
 },
 "nbformat": 4,
 "nbformat_minor": 2
}
